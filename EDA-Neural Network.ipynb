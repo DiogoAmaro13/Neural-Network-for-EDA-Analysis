# 0. Import and Install Dependencies

%matplotlib inline

import numpy as np
import pandas as pd 
from sklearn.preprocessing import StandardScaler
from sklearn.model_selection import train_test_split, GridSearchCV
from sklearn.feature_selection import mutual_info_classif
import matplotlib.pyplot as plt
import seaborn as sns
import os
